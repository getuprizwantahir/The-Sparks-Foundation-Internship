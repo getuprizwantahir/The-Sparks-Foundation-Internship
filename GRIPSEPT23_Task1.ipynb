{
 "cells": [
  {
   "cell_type": "markdown",
   "id": "8df3675c",
   "metadata": {},
   "source": [
    "# Data Science and Business Analytics Internship\n",
    "\n",
    "## The Sparks Foundation\n",
    "\n",
    "### Task 1 - Prediction Using Supervised ML\n",
    "\n",
    "# Author: Muhammad Rizwan Tahir\n",
    "\n",
    "### In this task we are asked to predict the percentage of a student based on the number of hours of study. We are given a dataset that can be found at http://bit.ly/w-data."
   ]
  },
  {
   "cell_type": "markdown",
   "id": "d659fcfd",
   "metadata": {},
   "source": [
    "## Index:\n",
    "\n",
    "### 1) Importing the Modules\n",
    "### 2) Importing Loading the Dataset and Observing/Analyzing it\n",
    "### 3) Visualizing the Data\n",
    "### 4) Preparing and Training the Model\n",
    "### 5) Visualizing the Model\n",
    "### 6) Doing the Prediction\n",
    "### 7) What would be the score if a student studies for 9.25 hours?\n",
    "### 8) Evaluating the Model"
   ]
  },
  {
   "cell_type": "markdown",
   "id": "bec852a7",
   "metadata": {},
   "source": [
    "### 1) Importing the Modules"
   ]
  },
  {
   "cell_type": "code",
   "execution_count": null,
   "id": "6d59e941",
   "metadata": {},
   "outputs": [],
   "source": [
    "#Importing the modules\n",
    "\n",
    "import numpy as np \n",
    "import seaborn as sns\n",
    "import pandas as pd\n",
    "import matplotlib.pyplot as plt"
   ]
  },
  {
   "cell_type": "markdown",
   "id": "30c8f5c5",
   "metadata": {},
   "source": [
    "### 2) Importing Loading the Dataset and Observing/Analyzing it"
   ]
  },
  {
   "cell_type": "code",
   "execution_count": 4,
   "id": "cbc1dbe5",
   "metadata": {},
   "outputs": [
    {
     "data": {
      "text/html": [
       "<div>\n",
       "<style scoped>\n",
       "    .dataframe tbody tr th:only-of-type {\n",
       "        vertical-align: middle;\n",
       "    }\n",
       "\n",
       "    .dataframe tbody tr th {\n",
       "        vertical-align: top;\n",
       "    }\n",
       "\n",
       "    .dataframe thead th {\n",
       "        text-align: right;\n",
       "    }\n",
       "</style>\n",
       "<table border=\"1\" class=\"dataframe\">\n",
       "  <thead>\n",
       "    <tr style=\"text-align: right;\">\n",
       "      <th></th>\n",
       "      <th>Hours</th>\n",
       "      <th>Scores</th>\n",
       "    </tr>\n",
       "  </thead>\n",
       "  <tbody>\n",
       "    <tr>\n",
       "      <th>0</th>\n",
       "      <td>2.5</td>\n",
       "      <td>21</td>\n",
       "    </tr>\n",
       "    <tr>\n",
       "      <th>1</th>\n",
       "      <td>5.1</td>\n",
       "      <td>47</td>\n",
       "    </tr>\n",
       "    <tr>\n",
       "      <th>2</th>\n",
       "      <td>3.2</td>\n",
       "      <td>27</td>\n",
       "    </tr>\n",
       "    <tr>\n",
       "      <th>3</th>\n",
       "      <td>8.5</td>\n",
       "      <td>75</td>\n",
       "    </tr>\n",
       "    <tr>\n",
       "      <th>4</th>\n",
       "      <td>3.5</td>\n",
       "      <td>30</td>\n",
       "    </tr>\n",
       "  </tbody>\n",
       "</table>\n",
       "</div>"
      ],
      "text/plain": [
       "   Hours  Scores\n",
       "0    2.5      21\n",
       "1    5.1      47\n",
       "2    3.2      27\n",
       "3    8.5      75\n",
       "4    3.5      30"
      ]
     },
     "execution_count": 4,
     "metadata": {},
     "output_type": "execute_result"
    }
   ],
   "source": [
    "#Importing/Loading the Dataset\n",
    "durl = \"https://raw.githubusercontent.com/AdiPersonalWorks/Random/master/student_scores%20-%20student_scores.csv\"\n",
    "#Loading the data\n",
    "data = pd.read_csv(durl)\n",
    "\n",
    "#Observing/analyzing the data\n",
    "\n",
    "#The number of rows and columns\n",
    "data.shape\n",
    "\n",
    "#Lets see how this look like in table form by printing the first few rows and columns\n",
    "data.head()"
   ]
  },
  {
   "cell_type": "code",
   "execution_count": 5,
   "id": "d1f3d095",
   "metadata": {},
   "outputs": [
    {
     "data": {
      "text/html": [
       "<div>\n",
       "<style scoped>\n",
       "    .dataframe tbody tr th:only-of-type {\n",
       "        vertical-align: middle;\n",
       "    }\n",
       "\n",
       "    .dataframe tbody tr th {\n",
       "        vertical-align: top;\n",
       "    }\n",
       "\n",
       "    .dataframe thead th {\n",
       "        text-align: right;\n",
       "    }\n",
       "</style>\n",
       "<table border=\"1\" class=\"dataframe\">\n",
       "  <thead>\n",
       "    <tr style=\"text-align: right;\">\n",
       "      <th></th>\n",
       "      <th>Hours</th>\n",
       "      <th>Scores</th>\n",
       "    </tr>\n",
       "  </thead>\n",
       "  <tbody>\n",
       "    <tr>\n",
       "      <th>20</th>\n",
       "      <td>2.7</td>\n",
       "      <td>30</td>\n",
       "    </tr>\n",
       "    <tr>\n",
       "      <th>21</th>\n",
       "      <td>4.8</td>\n",
       "      <td>54</td>\n",
       "    </tr>\n",
       "    <tr>\n",
       "      <th>22</th>\n",
       "      <td>3.8</td>\n",
       "      <td>35</td>\n",
       "    </tr>\n",
       "    <tr>\n",
       "      <th>23</th>\n",
       "      <td>6.9</td>\n",
       "      <td>76</td>\n",
       "    </tr>\n",
       "    <tr>\n",
       "      <th>24</th>\n",
       "      <td>7.8</td>\n",
       "      <td>86</td>\n",
       "    </tr>\n",
       "  </tbody>\n",
       "</table>\n",
       "</div>"
      ],
      "text/plain": [
       "    Hours  Scores\n",
       "20    2.7      30\n",
       "21    4.8      54\n",
       "22    3.8      35\n",
       "23    6.9      76\n",
       "24    7.8      86"
      ]
     },
     "execution_count": 5,
     "metadata": {},
     "output_type": "execute_result"
    }
   ],
   "source": [
    "data.tail()"
   ]
  },
  {
   "cell_type": "code",
   "execution_count": 6,
   "id": "20a9ed23",
   "metadata": {},
   "outputs": [
    {
     "data": {
      "text/plain": [
       "Hours     0\n",
       "Scores    0\n",
       "dtype: int64"
      ]
     },
     "execution_count": 6,
     "metadata": {},
     "output_type": "execute_result"
    }
   ],
   "source": [
    "#It is important to check if the dataset contain any missing/null values\n",
    "data.isnull().sum()"
   ]
  },
  {
   "cell_type": "markdown",
   "id": "92c1efdc",
   "metadata": {},
   "source": [
    "### 3) Visualizing the Data"
   ]
  },
  {
   "cell_type": "code",
   "execution_count": 7,
   "id": "0468ba9c",
   "metadata": {},
   "outputs": [
    {
     "data": {
      "image/png": "[encoded data removed]",
      "text/plain": [
       "<Figure size 640x480 with 1 Axes>"
      ]
     },
     "metadata": {},
     "output_type": "display_data"
    }
   ],
   "source": [
    "#Visualizing the Data\n",
    "\n",
    "plt.scatter(x=data.Hours, y=data.Scores)\n",
    "plt.title('Scatter Graph: Hours vs Percentage Score')\n",
    "plt.xlabel('Hours')\n",
    "plt.ylabel('Percentage')\n",
    "plt.show()"
   ]
  },
  {
   "cell_type": "code",
   "execution_count": 8,
   "id": "48e5e72b",
   "metadata": {},
   "outputs": [
    {
     "data": {
      "text/html": [
       "<div>\n",
       "<style scoped>\n",
       "    .dataframe tbody tr th:only-of-type {\n",
       "        vertical-align: middle;\n",
       "    }\n",
       "\n",
       "    .dataframe tbody tr th {\n",
       "        vertical-align: top;\n",
       "    }\n",
       "\n",
       "    .dataframe thead th {\n",
       "        text-align: right;\n",
       "    }\n",
       "</style>\n",
       "<table border=\"1\" class=\"dataframe\">\n",
       "  <thead>\n",
       "    <tr style=\"text-align: right;\">\n",
       "      <th></th>\n",
       "      <th>Hours</th>\n",
       "      <th>Scores</th>\n",
       "    </tr>\n",
       "  </thead>\n",
       "  <tbody>\n",
       "    <tr>\n",
       "      <th>Hours</th>\n",
       "      <td>1.000000</td>\n",
       "      <td>0.976191</td>\n",
       "    </tr>\n",
       "    <tr>\n",
       "      <th>Scores</th>\n",
       "      <td>0.976191</td>\n",
       "      <td>1.000000</td>\n",
       "    </tr>\n",
       "  </tbody>\n",
       "</table>\n",
       "</div>"
      ],
      "text/plain": [
       "           Hours    Scores\n",
       "Hours   1.000000  0.976191\n",
       "Scores  0.976191  1.000000"
      ]
     },
     "execution_count": 8,
     "metadata": {},
     "output_type": "execute_result"
    }
   ],
   "source": [
    "data.corr()"
   ]
  },
  {
   "cell_type": "code",
   "execution_count": 10,
   "id": "e0147b59",
   "metadata": {},
   "outputs": [],
   "source": [
    "#As we can see there exists a coorelation meaning that if one thing increases, the other also shows the same behavior."
   ]
  },
  {
   "cell_type": "markdown",
   "id": "359daf58",
   "metadata": {},
   "source": [
    "### 4) Preparing and Training the Model "
   ]
  },
  {
   "cell_type": "code",
   "execution_count": 12,
   "id": "72d366a3",
   "metadata": {},
   "outputs": [
    {
     "name": "stdout",
     "output_type": "stream",
     "text": [
      "Model Training Has Been Completed!\n"
     ]
    }
   ],
   "source": [
    "#Preparing of Model\n",
    "\n",
    "x = data[['Hours']].values #hours\n",
    "y = data['Scores'].values #scores \n",
    "\n",
    "#import the libraries\n",
    "from sklearn.model_selection import train_test_split\n",
    "\n",
    "#Split the data into training and testing sets \n",
    "x_train, x_test, y_train, y_test = train_test_split(x, y, test_size=0.2, random_state=0)\n",
    "\n",
    "#Training of Algorithm\n",
    "\n",
    "#Model\n",
    "from sklearn.linear_model import LinearRegression\n",
    "\n",
    "x_train, x_test, y_train, y_test = train_test_split(x, y, test_size=0.2, random_state=0)\n",
    "regmodel = LinearRegression()\n",
    "\n",
    "#training\n",
    "regmodel.fit(x_train, y_train)\n",
    "\n",
    "#Printing\n",
    "print(\"Model Training Has Been Completed!\")"
   ]
  },
  {
   "cell_type": "markdown",
   "id": "0326d5e4",
   "metadata": {},
   "source": [
    "### 5) Visualizing the Model"
   ]
  },
  {
   "cell_type": "code",
   "execution_count": 13,
   "id": "3781b33b",
   "metadata": {},
   "outputs": [
    {
     "data": {
      "image/png": "[encoded data removed]",
      "text/plain": [
       "<Figure size 640x480 with 1 Axes>"
      ]
     },
     "metadata": {},
     "output_type": "display_data"
    }
   ],
   "source": [
    "#Visualizing the Model \n",
    "\n",
    "#Calculating Model Coefficients and Intercept\n",
    "m=regmodel.coef_\n",
    "c=regmodel.intercept_\n",
    "#regression line\n",
    "regline = m*x+c\n",
    "\n",
    "plt.scatter(x,y)\n",
    "\n",
    "plt.plot(x,regline, color='green')\n",
    "plt.show()"
   ]
  },
  {
   "cell_type": "markdown",
   "id": "d9f82f4e",
   "metadata": {},
   "source": [
    "### 6) Doing the Prediction"
   ]
  },
  {
   "cell_type": "code",
   "execution_count": 17,
   "id": "f94d44ec",
   "metadata": {},
   "outputs": [
    {
     "name": "stdout",
     "output_type": "stream",
     "text": [
      "The DataFrame value is:     The Actual Value is  The Predicted Value is\n",
      "0                   20               16.884145\n",
      "1                   27               33.732261\n",
      "2                   69               75.357018\n",
      "3                   30               26.794801\n",
      "4                   62               60.491033\n"
     ]
    }
   ],
   "source": [
    "#Model Prediction\n",
    "\n",
    "y_prediction = regmodel.predict(x_test)\n",
    "\n",
    "#comparison of the predicted and the actual values\n",
    "dframe = pd.DataFrame({'The Actual Value is': y_test, \"The Predicted Value is\": y_prediction})\n",
    "\n",
    "#Printing the dataframe\n",
    "print(\"The DataFrame value is: \",dframe)"
   ]
  },
  {
   "cell_type": "markdown",
   "id": "61b61881",
   "metadata": {},
   "source": [
    "### 7) What would be the score if a student studies for 9.25 hours?"
   ]
  },
  {
   "cell_type": "code",
   "execution_count": 21,
   "id": "7787c336",
   "metadata": {},
   "outputs": [
    {
     "name": "stdout",
     "output_type": "stream",
     "text": [
      "The study hours are: 9.25 and the predicted score is: 93.69173248737538\n"
     ]
    }
   ],
   "source": [
    "# Now, we have to predict the score for a student who studies for 9.25 hours per day\n",
    "\n",
    "hoursgiven = 9.25 #we have given 9.25 hours\n",
    "\n",
    "#lets just create a variable newpredicted that would store the predcited value\n",
    "newpredicted = regmodel.predict([[hoursgiven]])\n",
    "\n",
    "#lets just print out the outcome of this\n",
    "\n",
    "print(\"The study hours are:\", hoursgiven, \"and the predicted score is:\", newpredicted[0])"
   ]
  },
  {
   "cell_type": "markdown",
   "id": "50184428",
   "metadata": {},
   "source": [
    "###  8) Evaluating the Model"
   ]
  },
  {
   "cell_type": "code",
   "execution_count": 22,
   "id": "1382aaf7",
   "metadata": {},
   "outputs": [
    {
     "name": "stdout",
     "output_type": "stream",
     "text": [
      "The Mean Absolute Error is: 4.183859899002975\n"
     ]
    }
   ],
   "source": [
    "#The Evaluation of the model\n",
    "#To do so, we need to find the MAE that is the mean absolutely error which tells how accurate the model in its prediction.\n",
    "#lets first just import the library\n",
    "from sklearn import metrics\n",
    " \n",
    "maevalue = metrics.mean_absolute_error(y_test, y_pred)\n",
    "\n",
    "#Lets just print it out\n",
    "print(\"The Mean Absolute Error is:\", maevalue)"
   ]
  },
  {
   "cell_type": "markdown",
   "id": "e7d95a04",
   "metadata": {},
   "source": []
  },
  {
   "cell_type": "code",
   "execution_count": null,
   "id": "461deb9d",
   "metadata": {},
   "outputs": [],
   "source": []
  }
 ],
 "metadata": {
  "kernelspec": {
   "display_name": "Python 3 (ipykernel)",
   "language": "python",
   "name": "python3"
  },
  "language_info": {
   "codemirror_mode": {
    "name": "ipython",
    "version": 3
   },
   "file_extension": ".py",
   "mimetype": "text/x-python",
   "name": "python",
   "nbconvert_exporter": "python",
   "pygments_lexer": "ipython3",
   "version": "3.11.4"
  }
 },
 "nbformat": 4,
 "nbformat_minor": 5
}
